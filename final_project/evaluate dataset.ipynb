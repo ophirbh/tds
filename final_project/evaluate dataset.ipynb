{
 "cells": [
  {
   "cell_type": "code",
   "id": "initial_id",
   "metadata": {
    "collapsed": true,
    "ExecuteTime": {
     "end_time": "2025-03-30T20:06:52.372479Z",
     "start_time": "2025-03-30T20:06:51.746617Z"
    }
   },
   "source": [
    "import pandas as pd\n",
    "import os\n",
    "\n",
    "os.environ['OPENAI_API_KEY'] = '' # Enter the key we gave you here as a string.\n",
    "\n",
    "from missing_features_evaluator import find_missing_features\n",
    "from missing_categorical_values_evaluator import find_missing_categorical_values\n",
    "from categorical_values_distribution_evaluator import assess_distribution_of_categorical_values\n",
    "from numerical_values_evaluator import check_numerical_feature_validity"
   ],
   "outputs": [],
   "execution_count": 1
  },
  {
   "metadata": {},
   "cell_type": "markdown",
   "source": "### Diamonds dataset evaluation",
   "id": "9b6feab144f1afe9"
  },
  {
   "metadata": {},
   "cell_type": "markdown",
   "source": "#### Load dataset",
   "id": "576e72a1297f2cbf"
  },
  {
   "metadata": {
    "ExecuteTime": {
     "end_time": "2025-03-30T20:06:54.930591Z",
     "start_time": "2025-03-30T20:06:54.916122Z"
    }
   },
   "cell_type": "code",
   "source": "df = pd.read_csv('data/diamonds.csv')",
   "id": "f8208f8e24bd655b",
   "outputs": [],
   "execution_count": 2
  },
  {
   "metadata": {},
   "cell_type": "markdown",
   "source": "#### Missing features",
   "id": "a2a5fca49e347fec"
  },
  {
   "metadata": {
    "ExecuteTime": {
     "end_time": "2025-03-29T11:49:49.685149Z",
     "start_time": "2025-03-29T11:49:30.241361Z"
    }
   },
   "cell_type": "code",
   "source": [
    "missing_features = find_missing_features(df, 'I wish to predict diamond prices according to the other features.', model='o1')\n",
    "print('Missing features:\\n')\n",
    "for index, item in enumerate(missing_features, start=1):\n",
    "    print(f\"{index}. {item}\")"
   ],
   "id": "3eef4fc356e48756",
   "outputs": [
    {
     "name": "stdout",
     "output_type": "stream",
     "text": [
      "Missing features:\n",
      "\n",
      "1. Brand or seller specialty (certified brand diamonds may command different prices)\n",
      "2. Girdle thickness (e.g., Thin, Medium, Thick), as this can affect both appearance and price\n",
      "3. Certification or grading lab (e.g., GIA, AGS), since different certs can affect perceived value\n",
      "4. Whether the diamond is natural vs. lab-grown\n",
      "5. Depth percentage and/or table percentage if not directly given (they are not provided explicitly, and table size in mm cannot be derived from the provided dimensions alone)\n",
      "6. Any diamond treatments or enhancements (e.g., HPHT, fracture filling)\n",
      "7. Culet description (e.g., None, Very Small, Small), which impacts price\n"
     ]
    }
   ],
   "execution_count": 3
  },
  {
   "metadata": {},
   "cell_type": "markdown",
   "source": "#### Missing categorical values",
   "id": "f9bdcece7b691189"
  },
  {
   "metadata": {
    "ExecuteTime": {
     "end_time": "2025-03-29T14:24:31.352384Z",
     "start_time": "2025-03-29T14:23:10.960916Z"
    }
   },
   "cell_type": "code",
   "source": [
    "missing_categorical_values = find_missing_categorical_values(df, 'I wish to predict diamond prices according to the other features.', model='o1')\n",
    "for key, value_list in missing_categorical_values.items():\n",
    "    print(f\"Feature: {key}\")\n",
    "    for index, item in enumerate(value_list, start=1):\n",
    "        print(f\"  {index}. {item}\")"
   ],
   "id": "b902655dfe08c50d",
   "outputs": [
    {
     "name": "stdout",
     "output_type": "stream",
     "text": [
      "Feature: Shape\n",
      "  1. ASSCHER\n",
      "  2. RADIANT\n",
      "Feature: Clarity\n",
      "Feature: Colour\n",
      "Feature: Cut\n",
      "  1. Poor\n",
      "Feature: Polish\n",
      "  1. P\n",
      "Feature: Symmetry\n",
      "  1. PR\n",
      "Feature: Fluorescence\n"
     ]
    }
   ],
   "execution_count": 4
  },
  {
   "metadata": {},
   "cell_type": "markdown",
   "source": "#### Categorical values distribution",
   "id": "6bb4a3c1dbcab0e5"
  },
  {
   "metadata": {
    "ExecuteTime": {
     "end_time": "2025-03-29T19:01:26.230488Z",
     "start_time": "2025-03-29T19:00:32.969055Z"
    }
   },
   "cell_type": "code",
   "source": [
    "distribution_evaluation = assess_distribution_of_categorical_values(df, 'I wish to predict diamond prices according to the other features.', model='o1')\n",
    "for key, value in distribution_evaluation.items():\n",
    "    print(f\"Feature: {key}\\n\")\n",
    "    print(f\"  Is distribution logical: {value['is_distribution_logical']}\\n\")\n",
    "    print(f\"  Reasoning: {value['assessment']}\\n\")\n",
    "    print('\\n')"
   ],
   "id": "c57f0bcfcb9c1fe1",
   "outputs": [
    {
     "name": "stdout",
     "output_type": "stream",
     "text": [
      "Feature: Shape\n",
      "\n",
      "  Is distribution logical: True\n",
      "\n",
      "  Reasoning: Overall, the higher frequency of ROUND diamonds appears realistic, as Round cut is known to be the most popular diamond shape. The second most frequent category being CUSHION is also plausible, followed by OVAL, PRINCESS, EMERALD, HEART, PEAR, and MARQUISE in decreasing order. Although MARQUISE is relatively small in number, it is not necessarily anomalous, as many diamond shapes can be less common in the marketplace. One possible consideration is whether additional shapes might have been expected (e.g., Radiant, Asscher), but their absence may simply reflect the data collection. No obvious anomalies arise, and these frequency counts are consistent with typical diamond shape availability and popularity trends.\n",
      "\n",
      "\n",
      "\n",
      "Feature: Clarity\n",
      "\n",
      "  Is distribution logical: True\n",
      "\n",
      "  Reasoning: The distribution is heavily concentrated in the clarity grades SI1, VS2, VS1, and SI2, with rarer grades (like IF, I1, I2, I3, and FL) having far lower counts. This pattern is in line with commercial availability and demand for mid-range clarity diamonds, while flawless diamonds (FL) and heavily included diamonds (I2, I3) indeed tend to be rare. Hence, the frequency distribution appears coherent and does not indicate major anomalies. The slight skew towards the more common clarity grades is expected in typical diamond datasets, and there do not appear to be any missing categories or suspiciously low frequencies beyond what is expected for rare grades.\n",
      "\n",
      "\n",
      "\n",
      "Feature: Colour\n",
      "\n",
      "  Is distribution logical: True\n",
      "\n",
      "  Reasoning: Overall, this frequency distribution for diamond color seems reasonable for a dataset focused on predicting diamond prices. The most common GIA colors (D through J) appear with fairly high frequencies, which matches real-world market availability. Additional categories such as K, L, M, N, and intentionally grouped ranges (O-P, Q-R, S-T, U-V, W-X, Y-Z) are also plausible diamond color classifications for less common stones. The presence of 'FANCY' as a separate category aligns with diamonds that do not fit the traditional color scale (e.g. fancy colored diamonds). The low counts (including 'O' and 'W' as single occurrences) could indicate rare or potential data entry anomalies, but they do not necessarily invalidate the distribution. There is no obvious indication of missing common categories. Hence, despite slightly skewed frequencies and a few extremely low counts, the distribution appears coherent for a diamond price prediction task.\n",
      "\n",
      "\n",
      "\n",
      "Feature: Cut\n",
      "\n",
      "  Is distribution logical: True\n",
      "\n",
      "  Reasoning: The category names (EX, VG, GD, and F) map reasonably to typical diamond cut grades (Excellent, Very Good, Good, and Fair). The dominant count of EX reflects that diamonds with higher cut quality are often more common in datasets, and the relatively smaller number of GD and especially F is plausible if fewer lower-grade diamonds were included or produced. However, there is potentially a missing “Premium” category that is commonly listed between Very Good and Excellent (EX). Other than that, the distribution does not show any major anomalies apart from the exceptionally low frequency for ‘F’, which might limit how well any model can learn about that segment. Overall, it is close to what one might expect in a diamond dataset, though if premium cuts were expected but not recorded, that would be a notable omission.\n",
      "\n",
      "\n",
      "\n",
      "Feature: Polish\n",
      "\n",
      "  Is distribution logical: True\n",
      "\n",
      "  Reasoning: The polish feature’s four categories (EX, VG, GD, F) and their counts reveal a strong skew toward EX and VG; such a distribution can be typical of diamond datasets because higher quality cuts and polishes are more common. However, the disparity is noticeable: ‘EX’ far outnumbers the other categories, and ‘F’ appears only twice. This could be due to limited observation of lower-quality polishes. While this skew may be completely reasonable given the market availability or acquisition bias of certain grades, it also suggests that the feature provides less representation in the mid-to-low categories (GD, F). Overall, there is nothing blatantly anomalous about the distribution, but it implies less reliable modeling for the two underrepresented categories.\n",
      "\n",
      "\n",
      "\n",
      "Feature: Symmetry\n",
      "\n",
      "  Is distribution logical: True\n",
      "\n",
      "  Reasoning: The frequency distribution for the Symmetry feature shows a dominant proportion of diamonds labeled as Very Good (VG) and Excellent (EX), with fewer Good (GD) and a small number of Fair (FR). In practice, it is quite common for diamonds within a given dataset to cluster around higher-quality designations such as Very Good and Excellent, so it’s reasonable to see a relatively small count in Fair. The relative counts do not appear unusual or overly skewed, and no apparently missing standard category (like Poor) stands out in this dataset. Overall, this distribution seems plausible for a typical assortment of diamonds, and no glaring anomaly arises from the given numbers.\n",
      "\n",
      "\n",
      "\n",
      "Feature: Fluorescence\n",
      "\n",
      "  Is distribution logical: True\n",
      "\n",
      "  Reasoning: The majority of values are 'N' (no fluorescence), followed by smaller amounts of faint and medium fluorescence, and even smaller counts for strong variations (ST, VS, VSL, SL). This skew is typical for diamond fluorescence, with most stones having no or faint fluorescence, and very few diamonds categorized as very strong. Although categories like ‘VSL’ and ‘SL’ are quite rare and may pose challenges for model training, there is no inherent anomaly in their presence. There do not appear to be any missing key categories, and the distribution aligns with known patterns in diamonds.\n",
      "\n",
      "\n",
      "\n"
     ]
    }
   ],
   "execution_count": 5
  },
  {
   "metadata": {},
   "cell_type": "markdown",
   "source": "#### Numerical values evaluation",
   "id": "763bac2c36b0a000"
  },
  {
   "metadata": {
    "ExecuteTime": {
     "end_time": "2025-03-30T20:07:39.611538Z",
     "start_time": "2025-03-30T20:07:02.345315Z"
    }
   },
   "cell_type": "code",
   "source": [
    "numerical_features_validity = check_numerical_feature_validity(df, 'I wish to predict diamond prices according to the other features.', model='o1')\n",
    "for key, value in numerical_features_validity.items():\n",
    "    print(f\"Feature: {key}\\n\")\n",
    "    print(f\"  Values make sense: {value['values_make_sense']}\\n\")\n",
    "    print(f\"  Reasoning: {value['reasoning']}\\n\")\n",
    "    print('\\n')"
   ],
   "id": "28e8fb6b16c9f1c8",
   "outputs": [
    {
     "name": "stdout",
     "output_type": "stream",
     "text": [
      "Feature: Weight\n",
      "\n",
      "  Values make sense: True\n",
      "\n",
      "  Reasoning: Yes, these weight values appear reasonable for diamonds. With a minimum weight of 0.18 carats and a maximum of 3.71 carats, the range is plausible: smaller stones around a fifth of a carat to larger stones closer to four carats. The mean and median are under 1 carat, which is typical of smaller diamonds. The skewness and kurtosis indicate there are relatively few stones in the higher weight range—consistent with diamonds, where larger specimens are rarer. Thus, the distribution seems realistic for diamond weights.\n",
      "\n",
      "\n",
      "\n",
      "Feature: Price\n",
      "\n",
      "  Values make sense: True\n",
      "\n",
      "  Reasoning: These price statistics are plausible for diamonds, which can range from several hundred dollars to well into the tens of thousands. The minimum price (around $683) is reasonable for a smaller or lower-quality diamond, while the maximum (over $13,000) aligns with more expensive stones. The mean and median (around $2,000) fit well within typical consumer retail prices for mainstream diamond purchases. Furthermore, the positive skew and high kurtosis confirm that most prices cluster at lower values, with a tail of higher-end (and more expensive) diamonds driving the skew. Overall, these values make sense for predicting diamond prices.\n",
      "\n",
      "\n",
      "\n",
      "Feature: Length\n",
      "\n",
      "  Values make sense: True\n",
      "\n",
      "  Reasoning: These length values appear reasonable for diamonds, which commonly range a few millimeters in length up to around a centimeter or more. The minimum (3.54 mm) is a plausible lower bound for a small diamond, and the maximum (12.05 mm) suits a larger stone. Likewise, the positively skewed distribution suggests there are fewer very large diamonds, which aligns with reality. Overall, none of the statistics—minimum, maximum, average, or overall shape—appear implausible for diamond lengths, so the data makes sense for this regression context.\n",
      "\n",
      "\n",
      "\n",
      "Feature: Width\n",
      "\n",
      "  Values make sense: True\n",
      "\n",
      "  Reasoning: These widths align with typical diamond dimensions, which can range a few millimeters in diameter for smaller stones to over 8–10 mm for larger stones. The min of 3.01 mm and max of 8.37 mm fit well within the usual range for commercially available diamonds, and the near-symmetric distribution (skewness close to zero) is also reasonable. Therefore, these values appear consistent with real-world scenarios and make sense for modeling price.\n",
      "\n",
      "\n",
      "\n",
      "Feature: Depth\n",
      "\n",
      "  Values make sense: True\n",
      "\n",
      "  Reasoning: These depth values (1.88–5.74 mm) are reasonable physical measurements for diamonds, which often measure a few millimeters from table to culet. The minimum near 1.88 mm indicates a small but plausible stone, and the maximum around 5.74 mm would correspond to a larger one. The mean of around 3.06 mm is also consistent with typical commercial diamond ranges, so these values make sense for predicting diamond price.\n",
      "\n",
      "\n",
      "\n"
     ]
    }
   ],
   "execution_count": 3
  }
 ],
 "metadata": {
  "kernelspec": {
   "display_name": "Python 3",
   "language": "python",
   "name": "python3"
  },
  "language_info": {
   "codemirror_mode": {
    "name": "ipython",
    "version": 2
   },
   "file_extension": ".py",
   "mimetype": "text/x-python",
   "name": "python",
   "nbconvert_exporter": "python",
   "pygments_lexer": "ipython2",
   "version": "2.7.6"
  }
 },
 "nbformat": 4,
 "nbformat_minor": 5
}
